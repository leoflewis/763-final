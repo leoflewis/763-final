{
 "cells": [
  {
   "cell_type": "code",
   "execution_count": 201,
   "id": "44b7e644-80a5-44c1-b487-c11c2e5de2f6",
   "metadata": {},
   "outputs": [
    {
     "name": "stdout",
     "output_type": "stream",
     "text": [
      "Looking in indexes: https://pypi.org/simple, https://pypi.ngc.nvidia.com\n",
      "Requirement already satisfied: scikit-learn in c:\\users\\fleon\\appdata\\local\\packages\\pythonsoftwarefoundation.python.3.10_qbz5n2kfra8p0\\localcache\\local-packages\\python310\\site-packages (1.2.2)\n",
      "Requirement already satisfied: numpy>=1.17.3 in c:\\users\\fleon\\appdata\\local\\packages\\pythonsoftwarefoundation.python.3.10_qbz5n2kfra8p0\\localcache\\local-packages\\python310\\site-packages (from scikit-learn) (1.23.4)\n",
      "Requirement already satisfied: scipy>=1.3.2 in c:\\users\\fleon\\appdata\\local\\packages\\pythonsoftwarefoundation.python.3.10_qbz5n2kfra8p0\\localcache\\local-packages\\python310\\site-packages (from scikit-learn) (1.10.1)\n",
      "Requirement already satisfied: joblib>=1.1.1 in c:\\users\\fleon\\appdata\\local\\packages\\pythonsoftwarefoundation.python.3.10_qbz5n2kfra8p0\\localcache\\local-packages\\python310\\site-packages (from scikit-learn) (1.2.0)\n",
      "Requirement already satisfied: threadpoolctl>=2.0.0 in c:\\users\\fleon\\appdata\\local\\packages\\pythonsoftwarefoundation.python.3.10_qbz5n2kfra8p0\\localcache\\local-packages\\python310\\site-packages (from scikit-learn) (3.1.0)\n"
     ]
    },
    {
     "name": "stderr",
     "output_type": "stream",
     "text": [
      "\n",
      "[notice] A new release of pip is available: 23.2.1 -> 24.1.1\n",
      "[notice] To update, run: C:\\Users\\fleon\\AppData\\Local\\Microsoft\\WindowsApps\\PythonSoftwareFoundation.Python.3.10_qbz5n2kfra8p0\\python.exe -m pip install --upgrade pip\n"
     ]
    },
    {
     "name": "stdout",
     "output_type": "stream",
     "text": [
      "Looking in indexes: https://pypi.org/simple, https://pypi.ngc.nvidia.com\n",
      "Requirement already satisfied: pandas in c:\\users\\fleon\\appdata\\local\\packages\\pythonsoftwarefoundation.python.3.10_qbz5n2kfra8p0\\localcache\\local-packages\\python310\\site-packages (1.5.3)\n",
      "Requirement already satisfied: python-dateutil>=2.8.1 in c:\\users\\fleon\\appdata\\local\\packages\\pythonsoftwarefoundation.python.3.10_qbz5n2kfra8p0\\localcache\\local-packages\\python310\\site-packages (from pandas) (2.8.2)\n",
      "Requirement already satisfied: pytz>=2020.1 in c:\\users\\fleon\\appdata\\local\\packages\\pythonsoftwarefoundation.python.3.10_qbz5n2kfra8p0\\localcache\\local-packages\\python310\\site-packages (from pandas) (2023.3)\n",
      "Requirement already satisfied: numpy>=1.21.0 in c:\\users\\fleon\\appdata\\local\\packages\\pythonsoftwarefoundation.python.3.10_qbz5n2kfra8p0\\localcache\\local-packages\\python310\\site-packages (from pandas) (1.23.4)\n",
      "Requirement already satisfied: six>=1.5 in c:\\users\\fleon\\appdata\\local\\packages\\pythonsoftwarefoundation.python.3.10_qbz5n2kfra8p0\\localcache\\local-packages\\python310\\site-packages (from python-dateutil>=2.8.1->pandas) (1.16.0)\n"
     ]
    },
    {
     "name": "stderr",
     "output_type": "stream",
     "text": [
      "\n",
      "[notice] A new release of pip is available: 23.2.1 -> 24.1.1\n",
      "[notice] To update, run: C:\\Users\\fleon\\AppData\\Local\\Microsoft\\WindowsApps\\PythonSoftwareFoundation.Python.3.10_qbz5n2kfra8p0\\python.exe -m pip install --upgrade pip\n"
     ]
    },
    {
     "name": "stdout",
     "output_type": "stream",
     "text": [
      "Looking in indexes: https://pypi.org/simple, https://pypi.ngc.nvidia.com\n",
      "Requirement already satisfied: matplotlib in c:\\users\\fleon\\appdata\\local\\packages\\pythonsoftwarefoundation.python.3.10_qbz5n2kfra8p0\\localcache\\local-packages\\python310\\site-packages (3.6.2)\n",
      "Requirement already satisfied: contourpy>=1.0.1 in c:\\users\\fleon\\appdata\\local\\packages\\pythonsoftwarefoundation.python.3.10_qbz5n2kfra8p0\\localcache\\local-packages\\python310\\site-packages (from matplotlib) (1.0.6)\n",
      "Requirement already satisfied: cycler>=0.10 in c:\\users\\fleon\\appdata\\local\\packages\\pythonsoftwarefoundation.python.3.10_qbz5n2kfra8p0\\localcache\\local-packages\\python310\\site-packages (from matplotlib) (0.11.0)\n",
      "Requirement already satisfied: fonttools>=4.22.0 in c:\\users\\fleon\\appdata\\local\\packages\\pythonsoftwarefoundation.python.3.10_qbz5n2kfra8p0\\localcache\\local-packages\\python310\\site-packages (from matplotlib) (4.38.0)\n",
      "Requirement already satisfied: kiwisolver>=1.0.1 in c:\\users\\fleon\\appdata\\local\\packages\\pythonsoftwarefoundation.python.3.10_qbz5n2kfra8p0\\localcache\\local-packages\\python310\\site-packages (from matplotlib) (1.4.4)\n",
      "Requirement already satisfied: numpy>=1.19 in c:\\users\\fleon\\appdata\\local\\packages\\pythonsoftwarefoundation.python.3.10_qbz5n2kfra8p0\\localcache\\local-packages\\python310\\site-packages (from matplotlib) (1.23.4)\n",
      "Requirement already satisfied: packaging>=20.0 in c:\\users\\fleon\\appdata\\local\\packages\\pythonsoftwarefoundation.python.3.10_qbz5n2kfra8p0\\localcache\\local-packages\\python310\\site-packages (from matplotlib) (24.1)\n",
      "Requirement already satisfied: pillow>=6.2.0 in c:\\users\\fleon\\appdata\\local\\packages\\pythonsoftwarefoundation.python.3.10_qbz5n2kfra8p0\\localcache\\local-packages\\python310\\site-packages (from matplotlib) (9.3.0)\n",
      "Requirement already satisfied: pyparsing>=2.2.1 in c:\\users\\fleon\\appdata\\local\\packages\\pythonsoftwarefoundation.python.3.10_qbz5n2kfra8p0\\localcache\\local-packages\\python310\\site-packages (from matplotlib) (3.0.9)\n",
      "Requirement already satisfied: python-dateutil>=2.7 in c:\\users\\fleon\\appdata\\local\\packages\\pythonsoftwarefoundation.python.3.10_qbz5n2kfra8p0\\localcache\\local-packages\\python310\\site-packages (from matplotlib) (2.8.2)\n",
      "Requirement already satisfied: six>=1.5 in c:\\users\\fleon\\appdata\\local\\packages\\pythonsoftwarefoundation.python.3.10_qbz5n2kfra8p0\\localcache\\local-packages\\python310\\site-packages (from python-dateutil>=2.7->matplotlib) (1.16.0)\n"
     ]
    },
    {
     "name": "stderr",
     "output_type": "stream",
     "text": [
      "\n",
      "[notice] A new release of pip is available: 23.2.1 -> 24.1.1\n",
      "[notice] To update, run: C:\\Users\\fleon\\AppData\\Local\\Microsoft\\WindowsApps\\PythonSoftwareFoundation.Python.3.10_qbz5n2kfra8p0\\python.exe -m pip install --upgrade pip\n"
     ]
    }
   ],
   "source": [
    "!pip install scikit-learn\n",
    "!pip install pandas\n",
    "!pip install matplotlib"
   ]
  },
  {
   "cell_type": "code",
   "execution_count": 202,
   "id": "f2ab6769-97a4-4c38-be4f-f0d869fc8796",
   "metadata": {},
   "outputs": [
    {
     "name": "stdout",
     "output_type": "stream",
     "text": [
      "anyio==4.4.0\n",
      "argon2-cffi==23.1.0\n",
      "argon2-cffi-bindings==21.2.0\n",
      "arrow==1.3.0\n",
      "asgiref==3.5.2\n",
      "asttokens==2.2.1\n",
      "async-lru==2.0.4\n",
      "attrs==22.2.0\n",
      "azure-functions==1.14.0\n",
      "Babel==2.15.0\n",
      "backcall==0.2.0\n",
      "beautifulsoup4==4.12.0\n",
      "bleach==6.1.0\n",
      "blinker==1.6.2\n",
      "bs4==0.0.1\n",
      "certifi==2022.12.7\n",
      "cffi==1.16.0\n",
      "charset-normalizer==3.1.0\n",
      "click==8.1.3\n",
      "colorama==0.4.6\n",
      "comm==0.2.1\n",
      "contourpy==1.0.6\n",
      "cryptography==41.0.5\n",
      "cx-Oracle==8.3.0\n",
      "cycler==0.11.0\n",
      "DateTime==5.1\n",
      "debugpy==1.8.0\n",
      "decorator==5.1.1\n",
      "defusedxml==0.7.1\n",
      "Django==4.1.3\n",
      "et-xmlfile==1.1.0\n",
      "exceptiongroup==1.1.1\n",
      "executing==1.2.0\n",
      "fastjsonschema==2.20.0\n",
      "Flask==2.3.2\n",
      "Flask-Cors==4.0.0\n",
      "fonttools==4.38.0\n",
      "fqdn==1.5.1\n",
      "greenlet==2.0.2\n",
      "gunicorn==20.1.0\n",
      "h11==0.14.0\n",
      "html5lib==1.1\n",
      "httpcore==1.0.5\n",
      "httpx==0.27.0\n",
      "idna==3.4\n",
      "iniconfig==2.0.0\n",
      "ipykernel==6.29.0\n",
      "ipython==8.13.1\n",
      "ipywidgets==8.1.3\n",
      "isoduration==20.11.0\n",
      "itsdangerous==2.1.2\n",
      "jedi==0.18.2\n",
      "Jinja2==3.1.2\n",
      "joblib==1.2.0\n",
      "json5==0.9.25\n",
      "jsonpointer==3.0.0\n",
      "jsonschema==4.22.0\n",
      "jsonschema-specifications==2023.12.1\n",
      "jupyter==1.0.0\n",
      "jupyter-console==6.6.3\n",
      "jupyter-events==0.10.0\n",
      "jupyter-lsp==2.2.5\n",
      "jupyter_client==8.6.0\n",
      "jupyter_core==5.7.1\n",
      "jupyter_server==2.14.1\n",
      "jupyter_server_terminals==0.5.3\n",
      "jupyterlab==4.2.3\n",
      "jupyterlab_pygments==0.3.0\n",
      "jupyterlab_server==2.27.2\n",
      "jupyterlab_widgets==3.0.11\n",
      "kiwisolver==1.4.4\n",
      "lxml==4.9.2\n",
      "MarkupSafe==2.1.3\n",
      "matplotlib==3.6.2\n",
      "matplotlib-inline==0.1.6\n",
      "mistune==3.0.2\n",
      "mysql==0.0.3\n",
      "mysql-connector==2.2.9\n",
      "mysql-connector-python==8.0.32\n",
      "mysqlclient==2.1.1\n",
      "nbclient==0.10.0\n",
      "nbconvert==7.16.4\n",
      "nbformat==5.10.4\n",
      "nest-asyncio==1.6.0\n",
      "networkx==3.3\n",
      "notebook==7.2.1\n",
      "notebook_shim==0.2.4\n",
      "numpy==1.23.4\n",
      "nvidia-ml-py==12.535.133\n",
      "openpyxl==3.1.2\n",
      "oracledb==1.4.2\n",
      "overrides==7.7.0\n",
      "packaging==24.1\n",
      "pandas==1.5.3\n",
      "pandasql==0.7.3\n",
      "pandocfilters==1.5.1\n",
      "parso==0.8.3\n",
      "pickleshare==0.7.5\n",
      "Pillow==9.3.0\n",
      "platformdirs==4.2.0\n",
      "pluggy==1.0.0\n",
      "prometheus_client==0.20.0\n",
      "prompt-toolkit==3.0.38\n",
      "protobuf==3.20.3\n",
      "psutil==5.9.8\n",
      "pure-eval==0.2.2\n",
      "pycparser==2.21\n",
      "pygame==2.5.2\n",
      "Pygments==2.15.1\n",
      "pyparsing==3.0.9\n",
      "pytest==7.2.2\n",
      "python-dateutil==2.8.2\n",
      "python-json-logger==2.0.7\n",
      "pytz==2023.3\n",
      "pywin32==306\n",
      "pywinpty==2.0.13\n",
      "PyYAML==6.0.1\n",
      "pyzmq==25.1.2\n",
      "qtconsole==5.5.2\n",
      "QtPy==2.4.1\n",
      "referencing==0.35.1\n",
      "requests==2.32.3\n",
      "rfc3339-validator==0.1.4\n",
      "rfc3986-validator==0.1.1\n",
      "rpds-py==0.18.1\n",
      "scikit-learn==1.2.2\n",
      "scipy==1.10.1\n",
      "seaborn==0.12.2\n",
      "Send2Trash==1.8.3\n",
      "six==1.16.0\n",
      "sniffio==1.3.1\n",
      "soupsieve==2.4\n",
      "SQLAlchemy==2.0.17\n",
      "sqlparse==0.4.3\n",
      "stack-data==0.6.2\n",
      "swehockey-scraper==0.6\n",
      "terminado==0.18.1\n",
      "threadpoolctl==3.1.0\n",
      "tinycss2==1.3.0\n",
      "tomli==2.0.1\n",
      "tornado==6.4\n",
      "traitlets==5.9.0\n",
      "types-python-dateutil==2.9.0.20240316\n",
      "typing_extensions==4.6.3\n",
      "tzdata==2022.6\n",
      "uri-template==1.3.0\n",
      "urllib3==1.26.14\n",
      "wcwidth==0.2.6\n",
      "webcolors==24.6.0\n",
      "webencodings==0.5.1\n",
      "websocket-client==1.8.0\n",
      "Werkzeug==2.3.6\n",
      "widgetsnbextension==4.0.11\n",
      "zope.interface==6.0\n"
     ]
    }
   ],
   "source": [
    "!pip freeze"
   ]
  },
  {
   "cell_type": "code",
   "execution_count": 159,
   "id": "6b92638c-eda2-49c4-9f33-85698f8c6dc4",
   "metadata": {},
   "outputs": [],
   "source": [
    "import pandas as pd\n",
    "from sklearn.preprocessing import StandardScaler\n",
    "class HeartFailureDataSet:\n",
    "    def __init__(self):\n",
    "        self.data = pd.read_csv(\"heart_failure_clinical_records.csv\")\n",
    "        self.x = self.data[[\"age\", \"anaemia\", \"creatinine_phosphokinase\", \"diabetes\", \"ejection_fraction\", \"high_blood_pressure\", \"platelets\", \"serum_creatinine\", \"serum_sodium\", \"sex\", \"smoking\",\"time\"]]\n",
    "        self.y = self.data[\"DEATH_EVENT\"]\n",
    "        self.numeric_columns = [\"age\", \"creatinine_phosphokinase\", \"ejection_fraction\", \"platelets\", \"serum_creatinine\", \"serum_sodium\", \"time\"]\n",
    "        self.X_train, self.X_test, self.y_train, self.y_test = train_test_split(self.x, self.y, random_state=104, test_size=0.25, shuffle=True) \n",
    "        self.scaler = preprocessing.StandardScaler()\n",
    "        self.scaler = self.scaler.fit(self.X_train[self.numeric_columns])\n",
    "        self.X_train[self.numeric_columns] = self.scaler.transform(self.X_train[self.numeric_columns])  \n",
    "        self.X_test[self.numeric_columns] = self.scaler.transform(self.X_test[self.numeric_columns])  \n",
    "\n",
    "    def get_training_data(self):\n",
    "        return self.X_train.copy(), self.y_train.copy()\n",
    "\n",
    "    def get_test_data(self):\n",
    "        return self.X_test.copy(), self.y_test.copy()\n",
    "    \n",
    "    def get_numeric_columns(self):\n",
    "        return self.numeric_columns\n",
    "        \n",
    "    def get_statistics(self):\n",
    "        return self.data.describe()\n",
    "\n",
    "    def get_description(self):\n",
    "        return \"\"\"This dataset contains the medical records of 5000 patients who had heart failure, \n",
    "        collected during their follow-up period, where each patient profile has 13 clinical features.\"\"\""
   ]
  },
  {
   "cell_type": "code",
   "execution_count": 203,
   "id": "6a303005-f67c-4834-9625-4a251a5a863d",
   "metadata": {},
   "outputs": [],
   "source": [
    "class IBaseModel:\n",
    "    def __init__(self):\n",
    "        pass\n",
    "\n",
    "    def train(self):\n",
    "        pass\n",
    "\n",
    "    def get_probabilities(self):\n",
    "        pass\n",
    "        \n",
    "    def get_predictions(self):\n",
    "        pass"
   ]
  },
  {
   "cell_type": "code",
   "execution_count": 205,
   "id": "3b847679-f6a2-4f6c-bb5e-c4dae109c6ac",
   "metadata": {},
   "outputs": [],
   "source": [
    "from sklearn.metrics import roc_curve, auc, precision_recall_fscore_support\n",
    "import matplotlib.pyplot as plt\n",
    "class ModelMetrics:\n",
    "    def __init__(self, model: IBaseModel, x, y):\n",
    "        print(model)\n",
    "        self.model = model\n",
    "        if not self.model.trained: self.model.train()  \n",
    "        self.data = data\n",
    "        self.x_test = x\n",
    "        self.y_test = y\n",
    "        \n",
    "    def get_prf(self):\n",
    "        prediction = self.model.get_predictions(self.x_test)\n",
    "        precision_0, recall_0, f1_0, support_0 = precision_recall_fscore_support(self.y_test, prediction, average='binary', pos_label=0)\n",
    "        precision_1, recall_1, f1_1, support_1 = precision_recall_fscore_support(self.y_test, prediction, average='binary', pos_label=1)\n",
    "        return {\n",
    "            \"Class 0\":{\n",
    "                \"Precision\": precision_0,\n",
    "                \"Recall\": recall_0,\n",
    "                \"F1\": f1_0\n",
    "            },\n",
    "            \"Class 1\":{\n",
    "                \"Precision\": precision_1,\n",
    "                \"Recall\": recall_1,\n",
    "                \"F1\": f1_1\n",
    "            }\n",
    "        }\n",
    "\n",
    "    def showROC(self):\n",
    "        probability = self.model.get_probabilities(self.x_test)\n",
    "        false_pos_0, true_pos_0, discard = roc_curve(self.y_test, probability[:, 0], pos_label=0)\n",
    "        auc_0 = auc(false_pos_0, true_pos_0)\n",
    "        \n",
    "        false_pos_1, true_pos_1, discard = roc_curve(self.y_test, probability[:, 1], pos_label=1)\n",
    "        auc_1 = auc(false_pos_1, true_pos_1)\n",
    "        \n",
    "        plt.plot(false_pos_0, true_pos_0, marker='.', label='Class 0', color='b')\n",
    "        plt.plot(false_pos_1, true_pos_1, marker='.', label='Class 1', color='r')\n",
    "        plt.xlabel('False Positive')\n",
    "        plt.ylabel('True Positive')\n",
    "        plt.title(self.model.name)\n",
    "        plt.legend()\n",
    "        plt.show()\n",
    "    "
   ]
  },
  {
   "cell_type": "code",
   "execution_count": 206,
   "id": "1c04a59d-81e9-4265-98d5-695bea543f1f",
   "metadata": {},
   "outputs": [],
   "source": [
    "from sklearn.linear_model import LogisticRegressionCV\n",
    "class LogisticRegressionL2(IBaseModel):\n",
    "    def __init__(self, x, y, C:int, cv:int=10):\n",
    "        self.model = LogisticRegressionCV(penalty=\"l2\", cv=cv, Cs=C)\n",
    "        self.X_train = x\n",
    "        self.y_train = y\n",
    "        self.trained = False\n",
    "        self.name = \"LogisticRegressionL2\"\n",
    "    \n",
    "    def train(self):\n",
    "        assert len(self.X_train) == len(self.y_train)\n",
    "        self.model.fit(self.X_train, self.y_train)\n",
    "        self.Trained = True\n",
    "\n",
    "    def get_probabilities(self, x):\n",
    "        return self.model.predict_proba(x)\n",
    "\n",
    "    def get_predictions(self, x):\n",
    "        return self.model.predict(x)"
   ]
  },
  {
   "cell_type": "code",
   "execution_count": 207,
   "id": "e371faa5-3a45-4e67-ac51-b95db6ede49d",
   "metadata": {},
   "outputs": [
    {
     "name": "stdout",
     "output_type": "stream",
     "text": [
      "<__main__.LogisticRegressionL2 object at 0x00000211E96013C0>\n"
     ]
    },
    {
     "data": {
      "text/plain": [
       "{'Class 0': {'Precision': 0.8597430406852249,\n",
       "  'Recall': 0.9358974358974359,\n",
       "  'F1': 0.8962053571428571},\n",
       " 'Class 1': {'Precision': 0.8259493670886076,\n",
       "  'Recall': 0.6658163265306123,\n",
       "  'F1': 0.7372881355932204}}"
      ]
     },
     "execution_count": 207,
     "metadata": {},
     "output_type": "execute_result"
    }
   ],
   "source": [
    "data = HeartFailureDataSet()\n",
    "x_train, y_train = data.get_training_data()\n",
    "x_test, y_test = data.get_test_data()\n",
    "lrl2 = LogisticRegressionL2(x_train, y_train, 100)\n",
    "evaluator = ModelMetrics(lrl2, x_test, y_test)\n",
    "evaluator.get_prf()"
   ]
  },
  {
   "cell_type": "code",
   "execution_count": 208,
   "id": "6f7c2fe0-f077-4faa-830f-432c54e814cc",
   "metadata": {},
   "outputs": [
    {
     "data": {
      "image/png": "[encoded data removed]",
      "text/plain": [
       "<Figure size 640x480 with 1 Axes>"
      ]
     },
     "metadata": {},
     "output_type": "display_data"
    }
   ],
   "source": [
    "evaluator.showROC()"
   ]
  },
  {
   "cell_type": "code",
   "execution_count": 209,
   "id": "f9143111-ffea-47d6-9935-d2e56728c285",
   "metadata": {},
   "outputs": [],
   "source": [
    "from sklearn.svm import NuSVC\n",
    "class NuSupportSVC(IBaseModel):\n",
    "    def __init__(self, x, y):\n",
    "        self.model = NuSVC(kernel=\"linear\", gamma='auto', probability=True)\n",
    "        self.X_train = x\n",
    "        self.y_train = y\n",
    "        self.trained = False\n",
    "        self.name = \"NuSupportSVC\"\n",
    "    \n",
    "    def train(self):\n",
    "        assert len(self.X_train) == len(self.y_train)\n",
    "        self.model.fit(self.X_train, self.y_train)\n",
    "        self.Trained = True\n",
    "\n",
    "    def get_probabilities(self, x):\n",
    "        print(self.model)\n",
    "        return self.model.predict_proba(x)\n",
    "\n",
    "    def get_predictions(self, x):\n",
    "        return self.model.predict(x)"
   ]
  },
  {
   "cell_type": "code",
   "execution_count": 210,
   "id": "62f433ec-bad5-42f5-8179-d13c5c12fabc",
   "metadata": {},
   "outputs": [
    {
     "name": "stdout",
     "output_type": "stream",
     "text": [
      "<__main__.NuSupportSVC object at 0x00000211E964F8B0>\n"
     ]
    },
    {
     "data": {
      "text/plain": [
       "{'Class 0': {'Precision': 0.8281092012133469,\n",
       "  'Recall': 0.9545454545454546,\n",
       "  'F1': 0.8868435300487277},\n",
       " 'Class 1': {'Precision': 0.8505747126436781,\n",
       "  'Recall': 0.5663265306122449,\n",
       "  'F1': 0.6799387442572741}}"
      ]
     },
     "execution_count": 210,
     "metadata": {},
     "output_type": "execute_result"
    }
   ],
   "source": [
    "nvsc = NuSupportSVC(x_train, y_train)\n",
    "nsvcEval = ModelMetrics(nvsc, x_test, y_test)\n",
    "nsvcEval.get_prf()"
   ]
  },
  {
   "cell_type": "code",
   "execution_count": 211,
   "id": "360e0321-38ff-4c6c-bd96-cf696afbb5d1",
   "metadata": {},
   "outputs": [
    {
     "name": "stdout",
     "output_type": "stream",
     "text": [
      "NuSVC(gamma='auto', kernel='linear', probability=True)\n"
     ]
    },
    {
     "data": {
      "image/png": "[encoded data removed]",
      "text/plain": [
       "<Figure size 640x480 with 1 Axes>"
      ]
     },
     "metadata": {},
     "output_type": "display_data"
    }
   ],
   "source": [
    "nsvcEval.showROC()"
   ]
  }
 ],
 "metadata": {
  "kernelspec": {
   "display_name": "Python 3 (ipykernel)",
   "language": "python",
   "name": "python3"
  },
  "language_info": {
   "codemirror_mode": {
    "name": "ipython",
    "version": 3
   },
   "file_extension": ".py",
   "mimetype": "text/x-python",
   "name": "python",
   "nbconvert_exporter": "python",
   "pygments_lexer": "ipython3",
   "version": "3.10.11"
  }
 },
 "nbformat": 4,
 "nbformat_minor": 5
}
