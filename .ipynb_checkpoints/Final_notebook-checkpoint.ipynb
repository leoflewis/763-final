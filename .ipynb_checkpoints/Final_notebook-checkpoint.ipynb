{
 "cells": [
  {
   "cell_type": "code",
   "execution_count": 135,
   "id": "44b7e644-80a5-44c1-b487-c11c2e5de2f6",
   "metadata": {},
   "outputs": [
    {
     "name": "stdout",
     "output_type": "stream",
     "text": [
      "Looking in indexes: https://pypi.org/simple, https://pypi.ngc.nvidia.com\n",
      "Requirement already satisfied: scikit-learn in c:\\users\\fleon\\appdata\\local\\packages\\pythonsoftwarefoundation.python.3.10_qbz5n2kfra8p0\\localcache\\local-packages\\python310\\site-packages (1.2.2)\n",
      "Requirement already satisfied: numpy>=1.17.3 in c:\\users\\fleon\\appdata\\local\\packages\\pythonsoftwarefoundation.python.3.10_qbz5n2kfra8p0\\localcache\\local-packages\\python310\\site-packages (from scikit-learn) (1.23.4)\n",
      "Requirement already satisfied: scipy>=1.3.2 in c:\\users\\fleon\\appdata\\local\\packages\\pythonsoftwarefoundation.python.3.10_qbz5n2kfra8p0\\localcache\\local-packages\\python310\\site-packages (from scikit-learn) (1.10.1)\n",
      "Requirement already satisfied: joblib>=1.1.1 in c:\\users\\fleon\\appdata\\local\\packages\\pythonsoftwarefoundation.python.3.10_qbz5n2kfra8p0\\localcache\\local-packages\\python310\\site-packages (from scikit-learn) (1.2.0)\n",
      "Requirement already satisfied: threadpoolctl>=2.0.0 in c:\\users\\fleon\\appdata\\local\\packages\\pythonsoftwarefoundation.python.3.10_qbz5n2kfra8p0\\localcache\\local-packages\\python310\\site-packages (from scikit-learn) (3.1.0)\n"
     ]
    },
    {
     "name": "stderr",
     "output_type": "stream",
     "text": [
      "\n",
      "[notice] A new release of pip is available: 23.2.1 -> 24.1.1\n",
      "[notice] To update, run: C:\\Users\\fleon\\AppData\\Local\\Microsoft\\WindowsApps\\PythonSoftwareFoundation.Python.3.10_qbz5n2kfra8p0\\python.exe -m pip install --upgrade pip\n"
     ]
    },
    {
     "name": "stdout",
     "output_type": "stream",
     "text": [
      "Looking in indexes: https://pypi.org/simple, https://pypi.ngc.nvidia.com\n",
      "Requirement already satisfied: pandas in c:\\users\\fleon\\appdata\\local\\packages\\pythonsoftwarefoundation.python.3.10_qbz5n2kfra8p0\\localcache\\local-packages\\python310\\site-packages (1.5.3)\n",
      "Requirement already satisfied: python-dateutil>=2.8.1 in c:\\users\\fleon\\appdata\\local\\packages\\pythonsoftwarefoundation.python.3.10_qbz5n2kfra8p0\\localcache\\local-packages\\python310\\site-packages (from pandas) (2.8.2)\n",
      "Requirement already satisfied: pytz>=2020.1 in c:\\users\\fleon\\appdata\\local\\packages\\pythonsoftwarefoundation.python.3.10_qbz5n2kfra8p0\\localcache\\local-packages\\python310\\site-packages (from pandas) (2023.3)\n",
      "Requirement already satisfied: numpy>=1.21.0 in c:\\users\\fleon\\appdata\\local\\packages\\pythonsoftwarefoundation.python.3.10_qbz5n2kfra8p0\\localcache\\local-packages\\python310\\site-packages (from pandas) (1.23.4)\n",
      "Requirement already satisfied: six>=1.5 in c:\\users\\fleon\\appdata\\local\\packages\\pythonsoftwarefoundation.python.3.10_qbz5n2kfra8p0\\localcache\\local-packages\\python310\\site-packages (from python-dateutil>=2.8.1->pandas) (1.16.0)\n"
     ]
    },
    {
     "name": "stderr",
     "output_type": "stream",
     "text": [
      "\n",
      "[notice] A new release of pip is available: 23.2.1 -> 24.1.1\n",
      "[notice] To update, run: C:\\Users\\fleon\\AppData\\Local\\Microsoft\\WindowsApps\\PythonSoftwareFoundation.Python.3.10_qbz5n2kfra8p0\\python.exe -m pip install --upgrade pip\n"
     ]
    }
   ],
   "source": [
    "!pip install scikit-learn\n",
    "!pip install pandas"
   ]
  },
  {
   "cell_type": "code",
   "execution_count": 136,
   "id": "6b92638c-eda2-49c4-9f33-85698f8c6dc4",
   "metadata": {},
   "outputs": [],
   "source": [
    "import pandas as pd\n",
    "from sklearn.preprocessing import StandardScaler\n",
    "class HeartFailureDataSet:\n",
    "    def __init__(self):\n",
    "        self.data = pd.read_csv(\"heart_failure_clinical_records.csv\")\n",
    "        self.x = self.data[[\"age\", \"anaemia\", \"creatinine_phosphokinase\", \"diabetes\", \"ejection_fraction\", \"high_blood_pressure\", \"platelets\", \"serum_creatinine\", \"serum_sodium\", \"sex\", \"smoking\",\"time\"]]\n",
    "        self.y = self.data[\"DEATH_EVENT\"]\n",
    "        self.numeric_columns = [\"age\", \"creatinine_phosphokinase\", \"ejection_fraction\", \"platelets\", \"serum_creatinine\", \"serum_sodium\", \"time\"]\n",
    "        self.X_train, self.X_test, self.y_train, self.y_test = train_test_split(self.x, self.y, random_state=104, test_size=0.25, shuffle=True) \n",
    "        self.scaler = preprocessing.StandardScaler()\n",
    "        self.scaler = self.scaler.fit(self.X_train[self.numeric_columns])\n",
    "        self.X_train[self.numeric_columns] = self.scaler.transform(self.X_train[self.numeric_columns])  \n",
    "        self.X_test[self.numeric_columns] = self.scaler.transform(self.X_test[self.numeric_columns])  \n",
    "\n",
    "    def get_training_data(self):\n",
    "        return self.X_train.copy(), self.y_train.copy()\n",
    "\n",
    "    def get_test_data(self):\n",
    "        return self.X_test.copy(), self.y_test.copy()\n",
    "    \n",
    "    def get_numeric_columns(self):\n",
    "        return self.numeric_columns\n",
    "        \n",
    "    def get_statistics(self):\n",
    "        return self.data.describe()\n",
    "\n",
    "    def get_description(self):\n",
    "        return \"\"\"This dataset contains the medical records of 5000 patients who had heart failure, \n",
    "        collected during their follow-up period, where each patient profile has 13 clinical features.\"\"\""
   ]
  },
  {
   "cell_type": "code",
   "execution_count": 137,
   "id": "3b847679-f6a2-4f6c-bb5e-c4dae109c6ac",
   "metadata": {},
   "outputs": [],
   "source": [
    "from sklearn.metrics import roc_curve, auc, precision_recall_fscore_support\n",
    "import matplotlib.pyplot as plt\n",
    "class ModelMetrics:\n",
    "    def __init__(self, model: BaseModel, x, y):\n",
    "        self.model = model\n",
    "        if not self.model.trained: self.model.train()  \n",
    "        self.data = data\n",
    "        self.x_test = x\n",
    "        self.y_test = y\n",
    "        \n",
    "    def get_prf(self):\n",
    "        prediction = model.get_predictions(self.x_test)\n",
    "        precision_0, recall_0, f1_0, support_0 = precision_recall_fscore_support(self.y_test, prediction, average='binary', pos_label=0)\n",
    "        precision_1, recall_1, f1_1, support_1 = precision_recall_fscore_support(self.y_test, prediction, average='binary', pos_label=1)\n",
    "        return {\n",
    "            \"Class 0\":{\n",
    "                \"Precision\": precision_0,\n",
    "                \"Recall\": recall_0,\n",
    "                \"F1\": f1_0\n",
    "            },\n",
    "            \"Class 1\":{\n",
    "                \"Precision\": precision_1,\n",
    "                \"Recall\": recall_1,\n",
    "                \"F1\": f1_1\n",
    "            }\n",
    "        }\n",
    "\n",
    "    def showROC(self):\n",
    "        probability = model.get_probabilities(self.x_test)\n",
    "        false_pos_0, true_pos_0, discard = roc_curve(self.y_test, probability[:, 0], pos_label=0)\n",
    "        auc_0 = auc(false_pos_0, true_pos_0)\n",
    "        \n",
    "        false_pos_1, true_pos_1, discard = roc_curve(self.y_test, probability[:, 1], pos_label=1)\n",
    "        auc_1 = auc(false_pos_1, true_pos_1)\n",
    "        \n",
    "        plt.plot(false_pos_0, true_pos_0, marker='.', label='Class 0', color='b')\n",
    "        plt.plot(false_pos_1, true_pos_1, marker='.', label='Class 1', color='r')\n",
    "        plt.xlabel('False Positive')\n",
    "        plt.ylabel('True Positive')\n",
    "        plt.legend()\n",
    "        plt.show()\n",
    "    "
   ]
  },
  {
   "cell_type": "code",
   "execution_count": 138,
   "id": "2c8de423-9992-4838-9afa-3ccdeded60fe",
   "metadata": {},
   "outputs": [],
   "source": [
    "class BaseModel:\n",
    "    def __init__(self):\n",
    "        pass\n",
    "\n",
    "    def train(self):\n",
    "        pass\n",
    "\n",
    "    def get_probabilities(self):\n",
    "        pass\n",
    "        \n",
    "    def get_predictions(self):\n",
    "        pass"
   ]
  },
  {
   "cell_type": "code",
   "execution_count": 139,
   "id": "1c04a59d-81e9-4265-98d5-695bea543f1f",
   "metadata": {},
   "outputs": [],
   "source": [
    "from sklearn.linear_model import LogisticRegressionCV\n",
    "class LogisticRegressionL2(BaseModel):\n",
    "    def __init__(self, x, y, C:int, cv:int=10):\n",
    "        self.model = LogisticRegressionCV(penalty=\"l2\", cv=cv, Cs=C)\n",
    "        self.X_train = x\n",
    "        self.y_train = y\n",
    "        self.trained = False\n",
    "    \n",
    "    def train(self):\n",
    "        assert len(self.X_train) == len(self.y_train)\n",
    "        self.model.fit(self.X_train, self.y_train)\n",
    "        self.Trained = True\n",
    "\n",
    "    def get_probabilities(self, x):\n",
    "        return self.model.predict_proba(x)\n",
    "\n",
    "    def get_predictions(self, x):\n",
    "        return self.model.predict(x)"
   ]
  },
  {
   "cell_type": "code",
   "execution_count": 140,
   "id": "e371faa5-3a45-4e67-ac51-b95db6ede49d",
   "metadata": {},
   "outputs": [
    {
     "data": {
      "text/plain": [
       "{'Class 0': {'Precision': 0.8711453744493393,\n",
       "  'Recall': 0.921911421911422,\n",
       "  'F1': 0.8958097395243487},\n",
       " 'Class 1': {'Precision': 0.804093567251462,\n",
       "  'Recall': 0.701530612244898,\n",
       "  'F1': 0.7493188010899182}}"
      ]
     },
     "execution_count": 140,
     "metadata": {},
     "output_type": "execute_result"
    }
   ],
   "source": [
    "data = HeartFailureDataSet()\n",
    "x_train, y_train = data.get_training_data()\n",
    "x_test, y_test = data.get_test_data()\n",
    "lrl2 = LogisticRegressionL2(x_train, y_train, 100)\n",
    "evaluator = ModelMetrics(lrl2, x_test, y_test)\n",
    "evaluator.get_prf()"
   ]
  },
  {
   "cell_type": "code",
   "execution_count": 141,
   "id": "6f7c2fe0-f077-4faa-830f-432c54e814cc",
   "metadata": {},
   "outputs": [
    {
     "data": {
      "image/png": "[encoded data removed]",
      "text/plain": [
       "<Figure size 640x480 with 1 Axes>"
      ]
     },
     "metadata": {},
     "output_type": "display_data"
    }
   ],
   "source": [
    "evaluator.showROC()"
   ]
  },
  {
   "cell_type": "code",
   "execution_count": 127,
   "id": "f9143111-ffea-47d6-9935-d2e56728c285",
   "metadata": {},
   "outputs": [],
   "source": [
    "from sklearn.svm import NuSVC\n",
    "class NuSupportSVC(BaseModel):\n",
    "    def __init__(self, x, y):\n",
    "        self.model = NuSVC(kernel=\"linear\", gamma='auto', probability=True)\n",
    "        self.X_train = x\n",
    "        self.y_train = y\n",
    "        self.trained = False\n",
    "    \n",
    "    def train(self):\n",
    "        assert len(self.X_train) == len(self.y_train)\n",
    "        self.model.fit(self.X_train, self.y_train)\n",
    "        self.Trained = True\n",
    "\n",
    "    def get_probabilities(self, x):\n",
    "        return self.model.predict_proba(x)\n",
    "\n",
    "    def get_predictions(self, x):\n",
    "        return self.model.predict(x)"
   ]
  },
  {
   "cell_type": "code",
   "execution_count": 142,
   "id": "62f433ec-bad5-42f5-8179-d13c5c12fabc",
   "metadata": {},
   "outputs": [
    {
     "data": {
      "text/plain": [
       "{'Class 0': {'Precision': 0.8711453744493393,\n",
       "  'Recall': 0.921911421911422,\n",
       "  'F1': 0.8958097395243487},\n",
       " 'Class 1': {'Precision': 0.804093567251462,\n",
       "  'Recall': 0.701530612244898,\n",
       "  'F1': 0.7493188010899182}}"
      ]
     },
     "execution_count": 142,
     "metadata": {},
     "output_type": "execute_result"
    }
   ],
   "source": [
    "nvsc = NuSupportSVC(x_train, y_train)\n",
    "nsvcEval = ModelMetrics(nvsc, x_test, y_test)\n",
    "nsvcEval.get_prf()"
   ]
  },
  {
   "cell_type": "code",
   "execution_count": 143,
   "id": "360e0321-38ff-4c6c-bd96-cf696afbb5d1",
   "metadata": {},
   "outputs": [
    {
     "data": {
      "image/png": "[encoded data removed]",
      "text/plain": [
       "<Figure size 640x480 with 1 Axes>"
      ]
     },
     "metadata": {},
     "output_type": "display_data"
    }
   ],
   "source": [
    "nsvcEval.showROC()"
   ]
  },
  {
   "cell_type": "code",
   "execution_count": 131,
   "id": "7fa71c57-fe71-4785-9ee5-5584293ea2d1",
   "metadata": {},
   "outputs": [
    {
     "data": {
      "text/plain": [
       "array([[False, False],\n",
       "       [False, False],\n",
       "       [False, False],\n",
       "       ...,\n",
       "       [False, False],\n",
       "       [False, False],\n",
       "       [False, False]])"
      ]
     },
     "execution_count": 131,
     "metadata": {},
     "output_type": "execute_result"
    }
   ],
   "source": [
    "lrl2.get_probabilities(x_test) == nvsc.get_probabilities(x_test)"
   ]
  },
  {
   "cell_type": "code",
   "execution_count": 133,
   "id": "410eb1f6-0f1c-4ffb-834f-569652a187a7",
   "metadata": {},
   "outputs": [
    {
     "data": {
      "text/plain": [
       "2275881484192"
      ]
     },
     "execution_count": 133,
     "metadata": {},
     "output_type": "execute_result"
    }
   ],
   "source": [
    "id(nsvcEval)"
   ]
  },
  {
   "cell_type": "code",
   "execution_count": 134,
   "id": "7d7db1f4-6800-416b-b590-551424525bd2",
   "metadata": {},
   "outputs": [
    {
     "data": {
      "text/plain": [
       "2275871431296"
      ]
     },
     "execution_count": 134,
     "metadata": {},
     "output_type": "execute_result"
    }
   ],
   "source": [
    "id(lrl2)"
   ]
  }
 ],
 "metadata": {
  "kernelspec": {
   "display_name": "Python 3 (ipykernel)",
   "language": "python",
   "name": "python3"
  },
  "language_info": {
   "codemirror_mode": {
    "name": "ipython",
    "version": 3
   },
   "file_extension": ".py",
   "mimetype": "text/x-python",
   "name": "python",
   "nbconvert_exporter": "python",
   "pygments_lexer": "ipython3",
   "version": "3.10.11"
  }
 },
 "nbformat": 4,
 "nbformat_minor": 5
}
